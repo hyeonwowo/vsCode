{
 "cells": [
  {
   "cell_type": "code",
   "execution_count": 2,
   "id": "3ec68d8d-05ee-43c9-9ddd-a000e3f471da",
   "metadata": {},
   "outputs": [
    {
     "name": "stdout",
     "output_type": "stream",
     "text": [
      "array1 type: <class 'numpy.ndarray'>\n",
      "array1 array 형태: (3,)\n",
      "array2 type: <class 'numpy.ndarray'>\n",
      "array2 array 형태: (2, 3)\n",
      "array3 type: <class 'numpy.ndarray'>\n",
      "array3 array 형태: (1, 3)\n",
      "array1: 1차원, array2: 2차원, array3: 2차원\n"
     ]
    }
   ],
   "source": [
    "import numpy as np\n",
    "\n",
    "array1 = np.array([1,2,3])\n",
    "print('array1 type:', type(array1))\n",
    "print('array1 array 형태:', array1.shape)\n",
    "\n",
    "array2 = np.array([[1,2,3],[2,3,4]])\n",
    "print('array2 type:', type(array2))\n",
    "print('array2 array 형태:', array2.shape)\n",
    "\n",
    "array3 = np.array([[1,2,3]])\n",
    "print('array3 type:', type(array3))\n",
    "print('array3 array 형태:', array3.shape)\n",
    "\n",
    "print('array1: {0}차원, array2: {1}차원, array3: {2}차원'.format(array1.ndim, array2.ndim, array3.ndim))"
   ]
  },
  {
   "cell_type": "code",
   "execution_count": 4,
   "id": "f7929f1d-4aee-4437-8a0d-6b146ab3c0dd",
   "metadata": {},
   "outputs": [
    {
     "name": "stdout",
     "output_type": "stream",
     "text": [
      "[1, 2, 3, 4, 5, 6]\n"
     ]
    }
   ],
   "source": [
    "print([1,2,3] + [4,5,6])"
   ]
  },
  {
   "cell_type": "code",
   "execution_count": 6,
   "id": "f41525c6-3fd7-435a-aad4-c58522415980",
   "metadata": {},
   "outputs": [],
   "source": [
    "import numpy as np"
   ]
  },
  {
   "cell_type": "code",
   "execution_count": 7,
   "id": "81e697ad-f007-43ed-8185-fc22965a79f8",
   "metadata": {},
   "outputs": [],
   "source": [
    "array1 = np.array([1,2,3])"
   ]
  },
  {
   "cell_type": "code",
   "execution_count": 8,
   "id": "618e1bcb-9945-4fe8-996e-a632c3cf8b9d",
   "metadata": {},
   "outputs": [
    {
     "name": "stdout",
     "output_type": "stream",
     "text": [
      "array1 type: <class 'numpy.ndarray'>\n"
     ]
    }
   ],
   "source": [
    "print('array1 type:', type(array1))"
   ]
  },
  {
   "cell_type": "code",
   "execution_count": 9,
   "id": "d8b2391a-f97a-4608-b497-32ee8eee04e3",
   "metadata": {},
   "outputs": [
    {
     "name": "stdout",
     "output_type": "stream",
     "text": [
      "array1 array 형태: (3,)\n"
     ]
    }
   ],
   "source": [
    "print('array1 array 형태:', array1.shape)"
   ]
  },
  {
   "cell_type": "code",
   "execution_count": 10,
   "id": "ac4b445e-09fc-4665-bc2e-a60b63cbb9a0",
   "metadata": {},
   "outputs": [],
   "source": [
    "array2 = np.array([[1,2,3],[2,3,4]])"
   ]
  },
  {
   "cell_type": "code",
   "execution_count": 11,
   "id": "ef4078c9-f1d6-43a8-85e4-d80d30960953",
   "metadata": {},
   "outputs": [
    {
     "name": "stdout",
     "output_type": "stream",
     "text": [
      "array2 type: <class 'numpy.ndarray'>\n"
     ]
    }
   ],
   "source": [
    "print('array2 type:', type(array2))"
   ]
  },
  {
   "cell_type": "code",
   "execution_count": 12,
   "id": "5eba9a47-bc2e-4680-bb7c-ecac2ccea496",
   "metadata": {},
   "outputs": [
    {
     "name": "stdout",
     "output_type": "stream",
     "text": [
      "array2 array 형태: (2, 3)\n"
     ]
    }
   ],
   "source": [
    "print('array2 array 형태:', array2.shape)"
   ]
  },
  {
   "cell_type": "code",
   "execution_count": 13,
   "id": "7a6a7052-50d0-41da-8882-6692cbeb88ce",
   "metadata": {},
   "outputs": [],
   "source": [
    "array3 = np.array([[1,2,3]])"
   ]
  },
  {
   "cell_type": "code",
   "execution_count": 14,
   "id": "66814355-ef5b-42db-a391-d19a1ef6a18a",
   "metadata": {},
   "outputs": [
    {
     "name": "stdout",
     "output_type": "stream",
     "text": [
      "array3 type: <class 'numpy.ndarray'>\n"
     ]
    }
   ],
   "source": [
    "print('array3 type:', type(array3))"
   ]
  },
  {
   "cell_type": "code",
   "execution_count": 15,
   "id": "5b9d7e1f-25df-4156-9eae-8efed31136c8",
   "metadata": {},
   "outputs": [
    {
     "name": "stdout",
     "output_type": "stream",
     "text": [
      "array3 array 형태: (1, 3)\n"
     ]
    }
   ],
   "source": [
    "print('array3 array 형태:', array3.shape)"
   ]
  },
  {
   "cell_type": "code",
   "execution_count": 3,
   "id": "316472d7",
   "metadata": {},
   "outputs": [
    {
     "name": "stdout",
     "output_type": "stream",
     "text": [
      "array1: 1차원, array2: 2차원, array3: 2차원\n"
     ]
    }
   ],
   "source": [
    "print('array1: {0}차원, array2: {1}차원, array3: {2}차원'.format(array1.ndim, array2.ndim, array3.ndim))"
   ]
  }
 ],
 "metadata": {
  "kernelspec": {
   "display_name": "base",
   "language": "python",
   "name": "python3"
  },
  "language_info": {
   "codemirror_mode": {
    "name": "ipython",
    "version": 3
   },
   "file_extension": ".py",
   "mimetype": "text/x-python",
   "name": "python",
   "nbconvert_exporter": "python",
   "pygments_lexer": "ipython3",
   "version": "3.13.5"
  }
 },
 "nbformat": 4,
 "nbformat_minor": 5
}
